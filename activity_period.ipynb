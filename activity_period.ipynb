{
 "cells": [
  {
   "cell_type": "code",
   "execution_count": 14,
   "metadata": {
    "colab": {},
    "colab_type": "code",
    "id": "xgQLYg8Csgi7",
    "pycharm": {
     "is_executing": false
    }
   },
   "outputs": [],
   "source": [
    "INPUT_FILE_NAME = 'log_sample_with_answers_full.csv'\n",
    "#'small_log.csv'\n",
    "#'log_sample.csv'\n",
    "LABEL_TIME_PART = 0.2"
   ]
  },
  {
   "cell_type": "code",
   "execution_count": 15,
   "metadata": {
    "colab": {},
    "colab_type": "code",
    "id": "sO_e5RpcsgjJ"
   },
   "outputs": [],
   "source": [
    "import csv\n",
    "import numpy as np\n",
    "from tqdm import tqdm\n",
    "import operator\n",
    "import json"
   ]
  },
  {
   "cell_type": "code",
   "execution_count": 16,
   "metadata": {
    "colab": {},
    "colab_type": "code",
    "id": "C2UQ8ylvsgjc"
   },
   "outputs": [],
   "source": [
    "class Event:\n",
    "    def __init__(self, timestamp, group_id, device_id, event_id, event_count):\n",
    "        self.timestamp = int(timestamp)\n",
    "        self.group_id = group_id\n",
    "        self.event_id = event_id\n",
    "        self.device_id = device_id\n",
    "        if event_count:\n",
    "            self.count = int(event_count)\n",
    "        else:\n",
    "            self.count = 0"
   ]
  },
  {
   "cell_type": "code",
   "execution_count": 17,
   "metadata": {
    "colab": {},
    "colab_type": "code",
    "id": "DtpvIHGxsgjh"
   },
   "outputs": [],
   "source": [
    "def check_group_event_id(group_id, event_id):\n",
    "    return group_id == 'actions' and event_id == 'action.invoked'"
   ]
  },
  {
   "cell_type": "code",
   "execution_count": 22,
   "metadata": {
    "colab": {},
    "colab_type": "code",
    "id": "WI2-OOrPsgjx"
   },
   "outputs": [],
   "source": [
    "def read_from_file_to_event_list():\n",
    "    events = []\n",
    "    isFirst = True\n",
    "    with open(INPUT_FILE_NAME, 'r') as fin:\n",
    "        for row in tqdm(csv.reader(fin, delimiter=',')):\n",
    "            if isFirst:\n",
    "                isFirst = False\n",
    "                continue\n",
    "            if (row[12].split('.')[0]) and check_group_event_id(row[5], row[10]):\n",
    "                event_info = json.loads(row[11])\n",
    "                group_id = 'actions.action.invoked'\n",
    "                event_id = event_info[\"action_id\"]\n",
    "                events.append(Event(row[3], group_id, row[7], event_id, row[12].split('.')[0]))\n",
    "    return events\n",
    "            "
   ]
  },
  {
   "cell_type": "code",
   "execution_count": 23,
   "metadata": {
    "colab": {
     "base_uri": "https://localhost:8080/",
     "height": 34
    },
    "colab_type": "code",
    "id": "sRwQBCaLsgj1",
    "outputId": "1f4508eb-fe43-49a9-b898-d9694128338f"
   },
   "outputs": [
    {
     "name": "stderr",
     "output_type": "stream",
     "text": [
      "10857583it [02:20, 77017.81it/s]\n"
     ]
    }
   ],
   "source": [
    "events = read_from_file_to_event_list()"
   ]
  },
  {
   "cell_type": "code",
   "execution_count": 24,
   "metadata": {
    "colab": {},
    "colab_type": "code",
    "id": "mxHrQH-Msgj8"
   },
   "outputs": [],
   "source": [
    "def get_user_to_time_period(events):\n",
    "    user_to_min_time = {}\n",
    "    user_to_max_time = {}\n",
    "    labels = {}\n",
    "\n",
    "    for event in tqdm(events):\n",
    "        if event.device_id not in user_to_min_time.keys():\n",
    "            user_to_min_time[event.device_id] = event.timestamp\n",
    "        else:\n",
    "            user_to_min_time[event.device_id] = min(user_to_min_time[event.device_id], event.timestamp)\n",
    "        if event.device_id not in user_to_max_time.keys():\n",
    "            user_to_max_time[event.device_id] = event.timestamp\n",
    "        else:\n",
    "            user_to_max_time[event.device_id] = max(user_to_max_time[event.device_id], event.timestamp)\n",
    "\n",
    "    user_to_time_period = {}\n",
    "    \n",
    "    for user in user_to_min_time.keys():\n",
    "        min_time = user_to_min_time[user]\n",
    "        max_time = user_to_max_time[user]\n",
    "        user_to_time_period[user] = int((max_time - min_time) / 1000 /60/60/24)\n",
    "    return user_to_time_period  \n",
    "        \n",
    "    "
   ]
  },
  {
   "cell_type": "code",
   "execution_count": 25,
   "metadata": {
    "colab": {
     "base_uri": "https://localhost:8080/",
     "height": 1000
    },
    "colab_type": "code",
    "id": "eBSyTg9QsgkI",
    "outputId": "919ab565-b130-4faf-d1da-5cc8805120ec"
   },
   "outputs": [
    {
     "name": "stderr",
     "output_type": "stream",
     "text": [
      "100%|██████████| 2379192/2379192 [00:05<00:00, 439862.96it/s]\n"
     ]
    }
   ],
   "source": [
    "user_to_time_period = get_user_to_time_period(events).values()"
   ]
  },
  {
   "cell_type": "code",
   "execution_count": 26,
   "metadata": {
    "colab": {
     "base_uri": "https://localhost:8080/",
     "height": 34
    },
    "colab_type": "code",
    "id": "EKTiAh2UsgkM",
    "outputId": "584b9363-9641-42ee-9f73-c17d2965ce78"
   },
   "outputs": [
    {
     "name": "stdout",
     "output_type": "stream",
     "text": [
      "1636\n"
     ]
    }
   ],
   "source": [
    "print(len(user_to_time_period))"
   ]
  },
  {
   "cell_type": "code",
   "execution_count": 27,
   "metadata": {
    "colab": {},
    "colab_type": "code",
    "id": "7b9cC8LjsgkP"
   },
   "outputs": [],
   "source": [
    "period_to_count = np.zeros(100)\n",
    "for period in user_to_time_period:\n",
    "    period_to_count[period] += 1\n"
   ]
  },
  {
   "cell_type": "code",
   "execution_count": 28,
   "metadata": {
    "colab": {
     "base_uri": "https://localhost:8080/",
     "height": 1000
    },
    "colab_type": "code",
    "id": "rSo4fBO5sgkS",
    "outputId": "c3f449db-a302-4ebd-b3ad-eb5682b7a665"
   },
   "outputs": [
    {
     "name": "stdout",
     "output_type": "stream",
     "text": [
      "0 days: 665 users\n",
      "1 days: 134 users\n",
      "2 days: 91 users\n",
      "3 days: 88 users\n",
      "4 days: 80 users\n",
      "5 days: 53 users\n",
      "6 days: 55 users\n",
      "7 days: 53 users\n",
      "8 days: 47 users\n",
      "9 days: 40 users\n",
      "10 days: 25 users\n",
      "11 days: 38 users\n",
      "12 days: 21 users\n",
      "13 days: 18 users\n",
      "14 days: 25 users\n",
      "15 days: 22 users\n",
      "16 days: 16 users\n",
      "17 days: 23 users\n",
      "18 days: 23 users\n",
      "19 days: 13 users\n",
      "20 days: 20 users\n",
      "21 days: 31 users\n",
      "22 days: 18 users\n",
      "23 days: 13 users\n",
      "24 days: 19 users\n",
      "25 days: 5 users\n",
      "26 days: 0 users\n",
      "27 days: 0 users\n",
      "28 days: 0 users\n",
      "29 days: 0 users\n",
      "30 days: 0 users\n",
      "31 days: 0 users\n",
      "32 days: 0 users\n",
      "33 days: 0 users\n",
      "34 days: 0 users\n",
      "35 days: 0 users\n",
      "36 days: 0 users\n",
      "37 days: 0 users\n",
      "38 days: 0 users\n",
      "39 days: 0 users\n",
      "40 days: 0 users\n",
      "41 days: 0 users\n",
      "42 days: 0 users\n",
      "43 days: 0 users\n",
      "44 days: 0 users\n",
      "45 days: 0 users\n",
      "46 days: 0 users\n",
      "47 days: 0 users\n",
      "48 days: 0 users\n",
      "49 days: 0 users\n",
      "50 days: 0 users\n",
      "51 days: 0 users\n",
      "52 days: 0 users\n",
      "53 days: 0 users\n",
      "54 days: 0 users\n",
      "55 days: 0 users\n",
      "56 days: 0 users\n",
      "57 days: 0 users\n",
      "58 days: 0 users\n",
      "59 days: 0 users\n",
      "60 days: 0 users\n",
      "61 days: 0 users\n",
      "62 days: 0 users\n",
      "63 days: 0 users\n",
      "64 days: 0 users\n",
      "65 days: 0 users\n",
      "66 days: 0 users\n",
      "67 days: 0 users\n",
      "68 days: 0 users\n",
      "69 days: 0 users\n",
      "70 days: 0 users\n",
      "71 days: 0 users\n",
      "72 days: 0 users\n",
      "73 days: 0 users\n",
      "74 days: 0 users\n",
      "75 days: 0 users\n",
      "76 days: 0 users\n",
      "77 days: 0 users\n",
      "78 days: 0 users\n",
      "79 days: 0 users\n",
      "80 days: 0 users\n",
      "81 days: 0 users\n",
      "82 days: 0 users\n",
      "83 days: 0 users\n",
      "84 days: 0 users\n",
      "85 days: 0 users\n",
      "86 days: 0 users\n",
      "87 days: 0 users\n",
      "88 days: 0 users\n",
      "89 days: 0 users\n",
      "90 days: 0 users\n",
      "91 days: 0 users\n",
      "92 days: 0 users\n",
      "93 days: 0 users\n",
      "94 days: 0 users\n",
      "95 days: 0 users\n",
      "96 days: 0 users\n",
      "97 days: 0 users\n",
      "98 days: 0 users\n",
      "99 days: 0 users\n"
     ]
    }
   ],
   "source": [
    "for i in range(len(period_to_count)):\n",
    "    print(str(i) + \" days: \" + str(int(period_to_count[i])) + \" users\")"
   ]
  },
  {
   "cell_type": "code",
   "execution_count": 29,
   "metadata": {
    "colab": {},
    "colab_type": "code",
    "id": "DUr1s0ihsgkn"
   },
   "outputs": [],
   "source": [
    "def get_user_to_time_periods(events):\n",
    "    user_to_timestamps = {}\n",
    "\n",
    "    for event in tqdm(events):\n",
    "        if event.device_id in user_to_timestamps.keys():\n",
    "            user_to_timestamps[event.device_id].append(event.timestamp)\n",
    "        else:\n",
    "            user_to_timestamps[event.device_id] = [event.timestamp]\n",
    "      \n",
    "    user_to_time_periods = {}\n",
    "    for user in tqdm(user_to_timestamps.keys()):\n",
    "        user_to_timestamps[user] = sorted(user_to_timestamps[user])\n",
    "        user_to_time_periods[user] = []\n",
    "        for i in range(len(user_to_timestamps[user]) - 1):\n",
    "            diff = int((user_to_timestamps[user][i + 1] - user_to_timestamps[user][i]) / 1000 / 60)\n",
    "            if diff > 0:\n",
    "                user_to_time_periods[user].append(diff)\n",
    "    return user_to_time_periods\n",
    "    "
   ]
  },
  {
   "cell_type": "code",
   "execution_count": 30,
   "metadata": {
    "colab": {
     "base_uri": "https://localhost:8080/",
     "height": 1000
    },
    "colab_type": "code",
    "id": "240rofgSsgkr",
    "outputId": "529d0e47-a264-40b1-8106-2252efcb6a80"
   },
   "outputs": [
    {
     "name": "stderr",
     "output_type": "stream",
     "text": [
      "100%|██████████| 2379192/2379192 [00:02<00:00, 1143412.86it/s]\n",
      "100%|██████████| 1636/1636 [00:02<00:00, 721.92it/s] \n"
     ]
    }
   ],
   "source": [
    "user_to_time_periods = get_user_to_time_periods(events)"
   ]
  },
  {
   "cell_type": "code",
   "execution_count": 31,
   "metadata": {
    "colab": {
     "base_uri": "https://localhost:8080/",
     "height": 68
    },
    "colab_type": "code",
    "id": "_DFbFR5Csgks",
    "outputId": "930052b6-3dbc-436a-875a-d91b9625c066"
   },
   "outputs": [
    {
     "name": "stdout",
     "output_type": "stream",
     "text": [
      "100.44999999999891\n",
      "26.965527760829776\n",
      "13.0\n"
     ]
    }
   ],
   "source": [
    "activity = []\n",
    "for value in user_to_time_periods.values():\n",
    "    cnt = 0\n",
    "    for elem in value:\n",
    "        if elem <= 30:\n",
    "            cnt += elem\n",
    "        else:\n",
    "            #print(\"active(\" + str(cnt), end=') ')\n",
    "            activity.append(cnt)\n",
    "            cnt = 0\n",
    "            #print(\"stopped(\" + str(elem), end=') ')\n",
    "            #print()\n",
    "    #print(\"active(\" + str(cnt), end=') ')\n",
    "    activity.append(cnt)  \n",
    "#print(activity)\n",
    "x = np.percentile(activity, 95)\n",
    "print(x)\n",
    "\n",
    "x1 = np.mean(activity)\n",
    "print(x1)\n",
    "\n",
    "x2 = np.median(activity)\n",
    "print(x2)\n",
    "    #print(\"END\")"
   ]
  },
  {
   "cell_type": "code",
   "execution_count": null,
   "metadata": {
    "colab": {},
    "colab_type": "code",
    "id": "4K-kQdKmsgk1"
   },
   "outputs": [],
   "source": []
  },
  {
   "cell_type": "code",
   "execution_count": 32,
   "metadata": {
    "colab": {},
    "colab_type": "code",
    "id": "9eIjOlH8ISC3"
   },
   "outputs": [],
   "source": [
    "import sys"
   ]
  },
  {
   "cell_type": "code",
   "execution_count": 33,
   "metadata": {
    "colab": {},
    "colab_type": "code",
    "id": "ytuWuuL0H09a"
   },
   "outputs": [],
   "source": [
    "def get_user_to_action_cnt(events):\n",
    "    user_to_cnt = {}\n",
    "    for event in tqdm(events):\n",
    "        if event.device_id not in user_to_cnt.keys():\n",
    "            user_to_cnt[event.device_id] = sys.getsizeof(event.timestamp) + sys.getsizeof(event.group_id) + sys.getsizeof(event.event_id)  \n",
    "        else:\n",
    "            user_to_cnt[event.device_id] += sys.getsizeof(event.timestamp) + sys.getsizeof(event.group_id) + sys.getsizeof(event.event_id)   \n",
    "    return max(user_to_cnt.items(), key=operator.itemgetter(1))"
   ]
  },
  {
   "cell_type": "code",
   "execution_count": 34,
   "metadata": {
    "colab": {
     "base_uri": "https://localhost:8080/",
     "height": 51
    },
    "colab_type": "code",
    "id": "UDCJwOELIb1d",
    "outputId": "c418cfb7-2c91-4842-96c1-5300e44748b6"
   },
   "outputs": [
    {
     "name": "stderr",
     "output_type": "stream",
     "text": [
      "100%|██████████| 2379192/2379192 [00:04<00:00, 530081.53it/s]\n"
     ]
    },
    {
     "data": {
      "text/plain": [
       "('270319163e52f29-0137-470f-b0d0-a8651264c103', 9357234)"
      ]
     },
     "execution_count": 34,
     "metadata": {},
     "output_type": "execute_result"
    }
   ],
   "source": [
    "get_user_to_action_cnt(events)"
   ]
  },
  {
   "cell_type": "code",
   "execution_count": 35,
   "metadata": {
    "colab": {
     "base_uri": "https://localhost:8080/",
     "height": 34
    },
    "colab_type": "code",
    "id": "5PN8AJMfxEYi",
    "outputId": "52f2cfc1-40b5-4351-a792-33fbb4845795"
   },
   "outputs": [
    {
     "data": {
      "text/plain": [
       "42.609768867492676"
      ]
     },
     "execution_count": 35,
     "metadata": {},
     "output_type": "execute_result"
    }
   ],
   "source": [
    "44679581 / 1024 / 1024"
   ]
  },
  {
   "cell_type": "code",
   "execution_count": null,
   "metadata": {},
   "outputs": [],
   "source": []
  }
 ],
 "metadata": {
  "accelerator": "GPU",
  "colab": {
   "collapsed_sections": [],
   "name": "activity_period.ipynb",
   "provenance": []
  },
  "kernelspec": {
   "display_name": "Python 3",
   "language": "python",
   "name": "python3"
  },
  "language_info": {
   "codemirror_mode": {
    "name": "ipython",
    "version": 3
   },
   "file_extension": ".py",
   "mimetype": "text/x-python",
   "name": "python",
   "nbconvert_exporter": "python",
   "pygments_lexer": "ipython3",
   "version": "3.7.6"
  }
 },
 "nbformat": 4,
 "nbformat_minor": 1
}
