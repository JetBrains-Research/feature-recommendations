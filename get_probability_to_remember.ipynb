{
  "nbformat": 4,
  "nbformat_minor": 0,
  "metadata": {
    "kernelspec": {
      "name": "python3",
      "display_name": "Python 3"
    },
    "language_info": {
      "codemirror_mode": {
        "name": "ipython",
        "version": 3
      },
      "file_extension": ".py",
      "mimetype": "text/x-python",
      "name": "python",
      "nbconvert_exporter": "python",
      "pygments_lexer": "ipython3",
      "version": "3.7.4"
    },
    "colab": {
      "name": "get_probability_to_remember.ipynb",
      "provenance": []
    },
    "accelerator": "GPU"
  },
  "cells": [
    {
      "cell_type": "code",
      "metadata": {
        "pycharm": {
          "is_executing": false
        },
        "id": "8rH1qlBXtFD1",
        "colab_type": "code",
        "colab": {}
      },
      "source": [
        "INPUT_FILE_NAME = 'log_sample.csv'\n",
        "#'small_log.csv'\n",
        "#'log_sample.csv'"
      ],
      "execution_count": 0,
      "outputs": []
    },
    {
      "cell_type": "code",
      "metadata": {
        "id": "jYc5FF-dtKnf",
        "colab_type": "code",
        "colab": {
          "base_uri": "https://localhost:8080/",
          "height": 189
        },
        "outputId": "54dc160e-dfaa-43f1-83b0-f7ebe0b3597c"
      },
      "source": [
        "from google.colab import drive\n",
        "drive.mount('/content/drive')"
      ],
      "execution_count": 2,
      "outputs": [
        {
          "output_type": "stream",
          "text": [
            "Go to this URL in a browser: https://accounts.google.com/o/oauth2/auth?client_id=947318989803-6bn6qk8qdgf4n4g3pfee6491hc0brc4i.apps.googleusercontent.com&redirect_uri=urn%3aietf%3awg%3aoauth%3a2.0%3aoob&response_type=code&scope=email%20https%3a%2f%2fwww.googleapis.com%2fauth%2fdocs.test%20https%3a%2f%2fwww.googleapis.com%2fauth%2fdrive%20https%3a%2f%2fwww.googleapis.com%2fauth%2fdrive.photos.readonly%20https%3a%2f%2fwww.googleapis.com%2fauth%2fpeopleapi.readonly\n",
            "\n",
            "Enter your authorization code:\n",
            "··········\n",
            "Mounted at /content/drive\n"
          ],
          "name": "stdout"
        }
      ]
    },
    {
      "cell_type": "code",
      "metadata": {
        "id": "fHQ4_bXc9MFs",
        "colab_type": "code",
        "colab": {
          "base_uri": "https://localhost:8080/",
          "height": 80
        },
        "outputId": "07eb8da0-17c9-4308-8cde-dc9d4cb0db37"
      },
      "source": [
        "!unzip \"drive/My Drive/log_sample.zip\" -d \".\""
      ],
      "execution_count": 3,
      "outputs": [
        {
          "output_type": "stream",
          "text": [
            "Archive:  drive/My Drive/log_sample.zip\n",
            "  inflating: ./log_sample.csv        \n"
          ],
          "name": "stdout"
        }
      ]
    },
    {
      "cell_type": "code",
      "metadata": {
        "id": "6pwlzNSGtFED",
        "colab_type": "code",
        "colab": {}
      },
      "source": [
        "import csv\n",
        "import numpy as np\n",
        "from tqdm import tqdm"
      ],
      "execution_count": 0,
      "outputs": []
    },
    {
      "cell_type": "code",
      "metadata": {
        "id": "5hEK2jPNtFEH",
        "colab_type": "code",
        "colab": {}
      },
      "source": [
        "class Event:\n",
        "    def __init__(self, timestamp, group_id, device_id, event_id, event_count):\n",
        "        self.timestamp = int(timestamp)\n",
        "        self.group_id = group_id\n",
        "        self.event_id = event_id\n",
        "        self.device_id = device_id\n",
        "        if event_count:\n",
        "            self.count = int(event_count)\n",
        "        else:\n",
        "            self.count = 0"
      ],
      "execution_count": 0,
      "outputs": []
    },
    {
      "cell_type": "code",
      "metadata": {
        "id": "44vYQBR_tFEh",
        "colab_type": "code",
        "colab": {}
      },
      "source": [
        "def check_group_event_id(group_id, event_id):\n",
        "    return group_id not in ('performance', 'vcs.change.reminder') and event_id not in ('ui.lagging',\n",
        "            'ide.error',\n",
        "            'ide.freeze',\n",
        "            'ui.latency',\n",
        "            'registered','invoked',\n",
        "            'TsLintLanguageService',\n",
        "            'whitelist.updated',\n",
        "            'logs.send',\n",
        "            'notification.shown',\n",
        "            'ESLintLanguageService'\n",
        "            )"
      ],
      "execution_count": 0,
      "outputs": []
    },
    {
      "cell_type": "code",
      "metadata": {
        "id": "-Dq7XRaztFEr",
        "colab_type": "code",
        "colab": {}
      },
      "source": [
        "def read_from_file_to_event_list():\n",
        "    events = []\n",
        "    isFirst = True\n",
        "    with open(INPUT_FILE_NAME, 'r') as fin:\n",
        "        for row in tqdm(csv.reader(fin, delimiter=',')):\n",
        "            if isFirst:\n",
        "                isFirst = False\n",
        "                continue\n",
        "            if (row[12].split('.')[0]) and check_group_event_id(row[5], row[10]):\n",
        "                events.append(Event(row[3], row[5], row[7], row[10], row[12].split('.')[0]))\n",
        "    return events        \n",
        "            "
      ],
      "execution_count": 0,
      "outputs": []
    },
    {
      "cell_type": "code",
      "metadata": {
        "id": "_dNZI0tOtFFF",
        "colab_type": "code",
        "colab": {
          "base_uri": "https://localhost:8080/",
          "height": 34
        },
        "outputId": "76970692-43c6-425c-d64f-fde33eaf24bb"
      },
      "source": [
        "events = read_from_file_to_event_list()"
      ],
      "execution_count": 8,
      "outputs": [
        {
          "output_type": "stream",
          "text": [
            "44349155it [06:12, 119083.82it/s]\n"
          ],
          "name": "stderr"
        }
      ]
    },
    {
      "cell_type": "code",
      "metadata": {
        "id": "IjihDmtEtFFU",
        "colab_type": "code",
        "colab": {}
      },
      "source": [
        "import math"
      ],
      "execution_count": 0,
      "outputs": []
    },
    {
      "cell_type": "code",
      "metadata": {
        "id": "LTJMJ84MtFFZ",
        "colab_type": "code",
        "colab": {}
      },
      "source": [
        "def round_half_up(n, decimals=0):\n",
        "    multiplier = 10 ** decimals\n",
        "    return math.floor(n*multiplier + 0.5) / multiplier"
      ],
      "execution_count": 0,
      "outputs": []
    },
    {
      "cell_type": "code",
      "metadata": {
        "id": "nJ81WPnttFFe",
        "colab_type": "code",
        "colab": {}
      },
      "source": [
        "def get_action_N_probs(events, forget_period):\n",
        "    user_action_to_timestamps = {}\n",
        "    action_N_to_p = {}\n",
        "    actions = {}\n",
        "    user_to_max_timestamp = {}\n",
        "    user_action_to_max_diff = {}\n",
        "    for elem in tqdm(events):\n",
        "        user = elem.device_id\n",
        "        group = elem.group_id\n",
        "        event = elem.event_id\n",
        "        timestamp = elem.timestamp\n",
        "        if user in user_to_max_timestamp.keys():\n",
        "            user_to_max_timestamp[user] = max(user_to_max_timestamp[user], timestamp)\n",
        "        else:\n",
        "            user_to_max_timestamp[user] = timestamp\n",
        "        actions[(group, event)] = True\n",
        "        if user in user_action_to_timestamps.keys():\n",
        "            if (group, event) in user_action_to_timestamps[user].keys():\n",
        "                user_action_to_timestamps[user][(group, event)].append(timestamp)\n",
        "            else:\n",
        "                user_action_to_timestamps[user][(group, event)] = [timestamp]\n",
        "        else:\n",
        "            user_action_to_timestamps[user] = {}\n",
        "            user_action_to_timestamps[user][(group, event)] = [timestamp]\n",
        "    \n",
        "    maxN = 0\n",
        "    for user in tqdm(user_action_to_timestamps.keys()):    \n",
        "        user_action_to_max_diff[user] = {}\n",
        "        for action in user_action_to_timestamps[user].keys():\n",
        "            user_action_to_timestamps[user][action] = sorted(user_action_to_timestamps[user][action])\n",
        "    \n",
        "    for action in tqdm(actions.keys()):\n",
        "        action_N_to_p[action] = {}\n",
        "        for N in range(60, 0, -1):\n",
        "            #print(N)\n",
        "            done_after = 0\n",
        "            total = 0\n",
        "            for user in user_action_to_timestamps.keys():\n",
        "                #print(user_action_to_timestamps[user].keys())\n",
        "                #print(user_action_to_max_diff[user].keys())\n",
        "                if action in user_action_to_timestamps[user].keys():\n",
        "                    sorted_timestamps = user_action_to_timestamps[user][action]\n",
        "                    prev = sorted_timestamps[0]\n",
        "                    first_N = 0\n",
        "                    for i in range(1, len(sorted_timestamps)):\n",
        "                        elem = sorted_timestamps[i]\n",
        "                        diff = round_half_up((elem - prev) / 1000 / 60 / 60 / 24)\n",
        "                        if diff >= N:\n",
        "                            total += 1\n",
        "                            if diff <= forget_period:\n",
        "                                done_after += 1\n",
        "                        prev = elem\n",
        "            if total != 0:\n",
        "               # if N < 60:\n",
        "               #     action_N_to_p[action][N] = max(action_N_to_p[action][N + 1], done_after / total)\n",
        "               # else:\n",
        "                    action_N_to_p[action][N] = done_after / total\n",
        "            else:\n",
        "                if N < 60:\n",
        "                    action_N_to_p[action][N] = action_N_to_p[action][N + 1]\n",
        "                else:\n",
        "                    action_N_to_p[action][N] =  0\n",
        "    return action_N_to_p\n",
        "            "
      ],
      "execution_count": 0,
      "outputs": []
    },
    {
      "cell_type": "code",
      "metadata": {
        "scrolled": true,
        "id": "ALJG2sbItFFh",
        "colab_type": "code",
        "colab": {
          "base_uri": "https://localhost:8080/",
          "height": 68
        },
        "outputId": "fc6f3836-898d-4cf1-e1a6-68000ea3668e"
      },
      "source": [
        "action_N_probs = get_action_N_probs(events, 30)"
      ],
      "execution_count": 12,
      "outputs": [
        {
          "output_type": "stream",
          "text": [
            "100%|██████████| 20551899/20551899 [00:53<00:00, 384338.07it/s]\n",
            "100%|██████████| 3711/3711 [00:08<00:00, 451.18it/s] \n",
            "100%|██████████| 2551/2551 [18:43<00:00, 15.60it/s]\n"
          ],
          "name": "stderr"
        }
      ]
    },
    {
      "cell_type": "code",
      "metadata": {
        "id": "OhUtO32NtFFq",
        "colab_type": "code",
        "colab": {
          "base_uri": "https://localhost:8080/",
          "height": 34
        },
        "outputId": "e1fe0145-43e6-45d6-86e3-b3cd7242cab3"
      },
      "source": [
        "np.mean([action_N_probs[i][20] for i in action_N_probs.keys()])"
      ],
      "execution_count": 13,
      "outputs": [
        {
          "output_type": "execute_result",
          "data": {
            "text/plain": [
              "0.26389632724215495"
            ]
          },
          "metadata": {
            "tags": []
          },
          "execution_count": 13
        }
      ]
    },
    {
      "cell_type": "code",
      "metadata": {
        "id": "jAJo1k08tFFz",
        "colab_type": "code",
        "colab": {}
      },
      "source": [
        "means = []\n",
        "for N in range(1, 40):\n",
        "    means.append(np.mean([action_N_probs[i][N] for i in action_N_probs.keys()]))"
      ],
      "execution_count": 0,
      "outputs": []
    },
    {
      "cell_type": "code",
      "metadata": {
        "id": "3KxVmERStFF-",
        "colab_type": "code",
        "colab": {}
      },
      "source": [
        "\n",
        "import matplotlib.pyplot as plt"
      ],
      "execution_count": 0,
      "outputs": []
    },
    {
      "cell_type": "code",
      "metadata": {
        "id": "0990-3GctFF_",
        "colab_type": "code",
        "colab": {
          "base_uri": "https://localhost:8080/",
          "height": 279
        },
        "outputId": "1a679092-7ffa-467f-dc70-351777dab2e0"
      },
      "source": [
        "plt.plot(list(range(1, 40)), means)\n",
        "plt.xlabel('Days Count')\n",
        "plt.ylabel('Probability to Remember')\n",
        "plt.show()"
      ],
      "execution_count": 16,
      "outputs": [
        {
          "output_type": "display_data",
          "data": {
            "image/png": "[encoded data removed]",
            "text/plain": [
              "<Figure size 432x288 with 1 Axes>"
            ]
          },
          "metadata": {
            "tags": []
          }
        }
      ]
    },
    {
      "cell_type": "code",
      "metadata": {
        "id": "b-CwaP2XtFGB",
        "colab_type": "code",
        "colab": {}
      },
      "source": [
        ""
      ],
      "execution_count": 0,
      "outputs": []
    }
  ]
}