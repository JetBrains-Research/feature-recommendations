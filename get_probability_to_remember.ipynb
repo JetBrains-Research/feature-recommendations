{
 "cells": [
  {
   "cell_type": "code",
   "execution_count": 1,
   "metadata": {
    "colab": {},
    "colab_type": "code",
    "id": "8rH1qlBXtFD1",
    "pycharm": {
     "is_executing": false
    }
   },
   "outputs": [],
   "source": [
    "INPUT_FILE_NAME = 'log_sample_with_answers_full.csv'\n",
    "#'small_log.csv'\n",
    "#'log_sample.csv'"
   ]
  },
  {
   "cell_type": "code",
   "execution_count": 2,
   "metadata": {
    "colab": {},
    "colab_type": "code",
    "id": "6pwlzNSGtFED"
   },
   "outputs": [],
   "source": [
    "import csv\n",
    "import numpy as np\n",
    "from tqdm import tqdm\n",
    "import json"
   ]
  },
  {
   "cell_type": "code",
   "execution_count": 3,
   "metadata": {
    "colab": {},
    "colab_type": "code",
    "id": "5hEK2jPNtFEH"
   },
   "outputs": [],
   "source": [
    "class Event:\n",
    "    def __init__(self, timestamp, group_id, device_id, event_id, event_count):\n",
    "        self.timestamp = int(timestamp)\n",
    "        self.group_id = group_id\n",
    "        self.event_id = event_id\n",
    "        self.device_id = device_id\n",
    "        if event_count:\n",
    "            self.count = int(event_count)\n",
    "        else:\n",
    "            self.count = 0"
   ]
  },
  {
   "cell_type": "code",
   "execution_count": 4,
   "metadata": {
    "colab": {},
    "colab_type": "code",
    "id": "44vYQBR_tFEh"
   },
   "outputs": [],
   "source": [
    "def check_group_event_id(group_id, event_id):\n",
    "    return group_id == 'actions' and event_id == 'action.invoked'"
   ]
  },
  {
   "cell_type": "code",
   "execution_count": 5,
   "metadata": {
    "colab": {},
    "colab_type": "code",
    "id": "-Dq7XRaztFEr"
   },
   "outputs": [],
   "source": [
    "def read_from_file_to_event_list():\n",
    "    events = []\n",
    "    isFirst = True\n",
    "    with open(INPUT_FILE_NAME, 'r') as fin:\n",
    "        for row in tqdm(csv.reader(fin, delimiter=',')):\n",
    "            if isFirst:\n",
    "                isFirst = False\n",
    "                continue\n",
    "            if (row[12].split('.')[0]) and check_group_event_id(row[5], row[10]):\n",
    "                event_info = json.loads(row[11])\n",
    "                group_id = 'actions.action.invoked'\n",
    "                event_id = event_info[\"action_id\"]\n",
    "                events.append(Event(row[3], group_id, row[7], event_id, row[12].split('.')[0]))\n",
    "    return events\n",
    "            "
   ]
  },
  {
   "cell_type": "code",
   "execution_count": 6,
   "metadata": {
    "colab": {
     "base_uri": "https://localhost:8080/",
     "height": 34
    },
    "colab_type": "code",
    "id": "_dNZI0tOtFFF",
    "outputId": "76970692-43c6-425c-d64f-fde33eaf24bb"
   },
   "outputs": [
    {
     "name": "stderr",
     "output_type": "stream",
     "text": [
      "10857583it [02:16, 79631.82it/s]\n"
     ]
    }
   ],
   "source": [
    "events = read_from_file_to_event_list()"
   ]
  },
  {
   "cell_type": "code",
   "execution_count": 7,
   "metadata": {
    "colab": {},
    "colab_type": "code",
    "id": "IjihDmtEtFFU"
   },
   "outputs": [],
   "source": [
    "import math"
   ]
  },
  {
   "cell_type": "code",
   "execution_count": 8,
   "metadata": {
    "colab": {},
    "colab_type": "code",
    "id": "LTJMJ84MtFFZ"
   },
   "outputs": [],
   "source": [
    "def round_half_up(n, decimals=0):\n",
    "    multiplier = 10 ** decimals\n",
    "    return math.floor(n*multiplier + 0.5) / multiplier"
   ]
  },
  {
   "cell_type": "code",
   "execution_count": 9,
   "metadata": {
    "colab": {},
    "colab_type": "code",
    "id": "nJ81WPnttFFe"
   },
   "outputs": [],
   "source": [
    "def get_action_N_probs(events, forget_period):\n",
    "    user_action_to_timestamps = {}\n",
    "    action_N_to_p = {}\n",
    "    actions = {}\n",
    "    user_to_max_timestamp = {}\n",
    "    user_action_to_max_diff = {}\n",
    "    for elem in tqdm(events):\n",
    "        user = elem.device_id\n",
    "        group = elem.group_id\n",
    "        event = elem.event_id\n",
    "        timestamp = elem.timestamp\n",
    "        if user in user_to_max_timestamp.keys():\n",
    "            user_to_max_timestamp[user] = max(user_to_max_timestamp[user], timestamp)\n",
    "        else:\n",
    "            user_to_max_timestamp[user] = timestamp\n",
    "        actions[(group, event)] = True\n",
    "        if user in user_action_to_timestamps.keys():\n",
    "            if (group, event) in user_action_to_timestamps[user].keys():\n",
    "                user_action_to_timestamps[user][(group, event)].append(timestamp)\n",
    "            else:\n",
    "                user_action_to_timestamps[user][(group, event)] = [timestamp]\n",
    "        else:\n",
    "            user_action_to_timestamps[user] = {}\n",
    "            user_action_to_timestamps[user][(group, event)] = [timestamp]\n",
    "    \n",
    "    maxN = 0\n",
    "    for user in tqdm(user_action_to_timestamps.keys()):    \n",
    "        user_action_to_max_diff[user] = {}\n",
    "        for action in user_action_to_timestamps[user].keys():\n",
    "            user_action_to_timestamps[user][action] = sorted(user_action_to_timestamps[user][action])\n",
    "    \n",
    "    for action in tqdm(actions.keys()):\n",
    "        action_N_to_p[action] = {}\n",
    "        for N in range(60, 0, -1):\n",
    "            #print(N)\n",
    "            done_after = 0\n",
    "            total = 0\n",
    "            for user in user_action_to_timestamps.keys():\n",
    "                #print(user_action_to_timestamps[user].keys())\n",
    "                #print(user_action_to_max_diff[user].keys())\n",
    "                if action in user_action_to_timestamps[user].keys():\n",
    "                    sorted_timestamps = user_action_to_timestamps[user][action]\n",
    "                    prev = sorted_timestamps[0]\n",
    "                    first_N = 0\n",
    "                    for i in range(1, len(sorted_timestamps)):\n",
    "                        elem = sorted_timestamps[i]\n",
    "                        diff = round_half_up((elem - prev) / 1000 / 60 / 60 / 24)\n",
    "                        if diff >= N:\n",
    "                            total += 1\n",
    "                            if diff <= forget_period:\n",
    "                                done_after += 1\n",
    "                        prev = elem\n",
    "            if total != 0:\n",
    "               # if N < 60:\n",
    "               #     action_N_to_p[action][N] = max(action_N_to_p[action][N + 1], done_after / total)\n",
    "               # else:\n",
    "                    action_N_to_p[action][N] = done_after / total\n",
    "            else:\n",
    "                if N < 60:\n",
    "                    action_N_to_p[action][N] = action_N_to_p[action][N + 1]\n",
    "                else:\n",
    "                    action_N_to_p[action][N] =  0\n",
    "    return action_N_to_p\n",
    "            "
   ]
  },
  {
   "cell_type": "code",
   "execution_count": 10,
   "metadata": {
    "colab": {
     "base_uri": "https://localhost:8080/",
     "height": 68
    },
    "colab_type": "code",
    "id": "ALJG2sbItFFh",
    "outputId": "fc6f3836-898d-4cf1-e1a6-68000ea3668e",
    "scrolled": true
   },
   "outputs": [
    {
     "name": "stderr",
     "output_type": "stream",
     "text": [
      "100%|██████████| 2379192/2379192 [00:07<00:00, 330890.18it/s]\n",
      "100%|██████████| 1636/1636 [00:00<00:00, 2113.83it/s]\n",
      "100%|██████████| 1038/1038 [02:40<00:00,  6.45it/s]\n"
     ]
    }
   ],
   "source": [
    "action_N_probs = get_action_N_probs(events, 30)"
   ]
  },
  {
   "cell_type": "code",
   "execution_count": 11,
   "metadata": {
    "colab": {
     "base_uri": "https://localhost:8080/",
     "height": 34
    },
    "colab_type": "code",
    "id": "OhUtO32NtFFq",
    "outputId": "e1fe0145-43e6-45d6-86e3-b3cd7242cab3"
   },
   "outputs": [
    {
     "data": {
      "text/plain": [
       "0.09441233140655106"
      ]
     },
     "execution_count": 11,
     "metadata": {},
     "output_type": "execute_result"
    }
   ],
   "source": [
    "np.mean([action_N_probs[i][20] for i in action_N_probs.keys()])"
   ]
  },
  {
   "cell_type": "code",
   "execution_count": 12,
   "metadata": {
    "colab": {},
    "colab_type": "code",
    "id": "jAJo1k08tFFz"
   },
   "outputs": [],
   "source": [
    "means = []\n",
    "for N in range(1, 40):\n",
    "    means.append(np.mean([action_N_probs[i][N] for i in action_N_probs.keys()]))"
   ]
  },
  {
   "cell_type": "code",
   "execution_count": 13,
   "metadata": {
    "colab": {},
    "colab_type": "code",
    "id": "3KxVmERStFF-"
   },
   "outputs": [],
   "source": [
    "\n",
    "import matplotlib.pyplot as plt"
   ]
  },
  {
   "cell_type": "code",
   "execution_count": 37,
   "metadata": {
    "colab": {
     "base_uri": "https://localhost:8080/",
     "height": 279
    },
    "colab_type": "code",
    "id": "0990-3GctFF_",
    "outputId": "1a679092-7ffa-467f-dc70-351777dab2e0"
   },
   "outputs": [
    {
     "name": "stderr",
     "output_type": "stream",
     "text": [
      "findfont: Font family ['normal'] not found. Falling back to DejaVu Sans.\n"
     ]
    },
    {
     "data": {
      "image/png": "[encoded data removed]",
      "text/plain": [
       "<Figure size 1080x720 with 1 Axes>"
      ]
     },
     "metadata": {
      "needs_background": "light"
     },
     "output_type": "display_data"
    }
   ],
   "source": [
    "plt.rcParams[\"figure.figsize\"] = (15,10)\n",
    "font = {'weight' : 'normal',\n",
    "        'size'   : 20}\n",
    "\n",
    "plt.rc('font', **font)\n",
    "plt.plot(list(range(1, 40)), means)\n",
    "plt.xlabel('Количество дней с последнего использования')\n",
    "plt.ylabel('Вероятность вспомнить действие')\n",
    "plt.show()"
   ]
  },
  {
   "cell_type": "code",
   "execution_count": null,
   "metadata": {
    "colab": {},
    "colab_type": "code",
    "id": "b-CwaP2XtFGB"
   },
   "outputs": [],
   "source": []
  },
  {
   "cell_type": "code",
   "execution_count": null,
   "metadata": {},
   "outputs": [],
   "source": []
  }
 ],
 "metadata": {
  "accelerator": "GPU",
  "colab": {
   "name": "get_probability_to_remember.ipynb",
   "provenance": []
  },
  "kernelspec": {
   "display_name": "Python 3",
   "language": "python",
   "name": "python3"
  },
  "language_info": {
   "codemirror_mode": {
    "name": "ipython",
    "version": 3
   },
   "file_extension": ".py",
   "mimetype": "text/x-python",
   "name": "python",
   "nbconvert_exporter": "python",
   "pygments_lexer": "ipython3",
   "version": "3.7.6"
  }
 },
 "nbformat": 4,
 "nbformat_minor": 1
}
