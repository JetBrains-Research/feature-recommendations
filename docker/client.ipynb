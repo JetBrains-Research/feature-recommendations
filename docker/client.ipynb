{
 "cells": [
  {
   "cell_type": "code",
   "execution_count": 11,
   "metadata": {},
   "outputs": [],
   "source": [
    "from tqdm import notebook"
   ]
  },
  {
   "cell_type": "code",
   "execution_count": 34,
   "metadata": {},
   "outputs": [],
   "source": [
    "import os\n",
    "dir_name = \"./test_events\"\n",
    "label_dir_name = \"./test_labels\"\n",
    "file_names = os.listdir(dir_name)"
   ]
  },
  {
   "cell_type": "code",
   "execution_count": 36,
   "metadata": {},
   "outputs": [
    {
     "data": {
      "application/vnd.jupyter.widget-view+json": {
       "model_id": "3b2ee8ccf7ab4c8694ff6be804850142",
       "version_major": 2,
       "version_minor": 0
      },
      "text/plain": [
       "HBox(children=(IntProgress(value=0, max=177), HTML(value='')))"
      ]
     },
     "metadata": {},
     "output_type": "display_data"
    },
    {
     "name": "stdout",
     "output_type": "stream",
     "text": [
      "\n"
     ]
    },
    {
     "data": {
      "application/vnd.jupyter.widget-view+json": {
       "model_id": "a7844a25c6f341e481cc13e0531a6904",
       "version_major": 2,
       "version_minor": 0
      },
      "text/plain": [
       "HBox(children=(IntProgress(value=0, max=177), HTML(value='')))"
      ]
     },
     "metadata": {},
     "output_type": "display_data"
    },
    {
     "name": "stdout",
     "output_type": "stream",
     "text": [
      "\n",
      "TOP: 0.559322033898305 MATRIX: 0.423728813559322 PROB: 0.05084745762711865 \n"
     ]
    }
   ],
   "source": [
    "import requests\n",
    "url = \"http://0.0.0.0:5000/\"\n",
    "\n",
    "user_to_recommendation = {}\n",
    "\n",
    "for file_name in notebook.tqdm(file_names):\n",
    "    #print(file_name[:-4])\n",
    "    if not (file_name[-4:] == '.csv'):\n",
    "        continue\n",
    "    files = {'file' : open(dir_name + \"/\" + file_name, 'r')}\n",
    "    params = {'device_id' : file_name[:-4]}\n",
    "    r = requests.post(url, params, files=files)\n",
    "    user_to_recommendation[file_name[:-4]] = str(r.text)\n",
    "for file_name in notebook.tqdm(file_names):\n",
    "    is_correct = False\n",
    "    for row in open(label_dir_name + \"/\" + file_name, 'r'):\n",
    "        event = row[:-1]\n",
    "        if event == user_to_recommendation[file_name[:-4]]:\n",
    "            is_correct = True\n",
    "            break\n",
    "    params = {'device_id' : file_name[:-4], 'is_correct' : is_correct}\n",
    "    r = requests.post(url + 'test', params)\n",
    "print(str(r.text))\n",
    "    "
   ]
  },
  {
   "cell_type": "code",
   "execution_count": 17,
   "metadata": {},
   "outputs": [
    {
     "name": "stdout",
     "output_type": "stream",
     "text": [
      "TOP: 0.45098039215686275 MATRIX: 0.3465346534653465 PROB: 0.09900990099009901 \n"
     ]
    }
   ],
   "source": [
    "print(str(r.text))"
   ]
  },
  {
   "cell_type": "code",
   "execution_count": null,
   "metadata": {},
   "outputs": [],
   "source": []
  }
 ],
 "metadata": {
  "kernelspec": {
   "display_name": "Python 3",
   "language": "python",
   "name": "python3"
  },
  "language_info": {
   "codemirror_mode": {
    "name": "ipython",
    "version": 3
   },
   "file_extension": ".py",
   "mimetype": "text/x-python",
   "name": "python",
   "nbconvert_exporter": "python",
   "pygments_lexer": "ipython3",
   "version": "3.7.4"
  }
 },
 "nbformat": 4,
 "nbformat_minor": 2
}
