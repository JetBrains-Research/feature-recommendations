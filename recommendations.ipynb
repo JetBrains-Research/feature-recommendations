{
 "cells": [
  {
   "cell_type": "code",
   "execution_count": null,
   "metadata": {
    "pycharm": {
     "is_executing": false
    }
   },
   "outputs": [],
   "source": [
    "import csv\n",
    "import numpy as np\n",
    "from tqdm import notebook\n",
    "import operator\n",
    "from scipy.sparse import csr_matrix\n",
    "from sklearn.decomposition import NMF\n",
    "from scipy.sparse.linalg import svds"
   ]
  },
  {
   "cell_type": "code",
   "execution_count": null,
   "metadata": {},
   "outputs": [],
   "source": [
    "INPUT_FILE_NAME = 'log_sample.csv'\n",
    "PREDICTED_TIME_MILLIS = 10 * 60 * 60 * 1000\n",
    "TRAIN_TIME_DAYS = 30\n",
    "FORGET_TIME_DAYS = 10"
   ]
  },
  {
   "cell_type": "code",
   "execution_count": null,
   "metadata": {},
   "outputs": [],
   "source": [
    "class ReadEvents:\n",
    "    def __init__(self, input_file_name, predicted_time_millis, train_time_days):\n",
    "        self.input_file_name = input_file_name\n",
    "        self.predicted_time = predicted_time_millis\n",
    "        self.train_time = train_time_days * 24 * 60 * 60 * 1000\n",
    "    \n",
    "    def read_events_from_file(self):\n",
    "        def check_group_event_id(group_id, event_id):\n",
    "            return group_id not in ('performance', 'vcs.change.reminder') and \\\n",
    "                   event_id not in ('ui.lagging',\n",
    "                                    'ide.error',\n",
    "                                    'ide.freeze',\n",
    "                                    'ui.latency',\n",
    "                                    'registered',\n",
    "                                    'invoked',\n",
    "                                    'TsLintLanguageService',\n",
    "                                    'whitelist.updated',\n",
    "                                    'logs.send',\n",
    "                                    'notification.shown',\n",
    "                                    'ESLintLanguageService')\n",
    "        \n",
    "        events = []\n",
    "        event_types = {}\n",
    "        users = {}\n",
    "        with open(self.input_file_name, 'r') as fin:\n",
    "            for row in notebook.tqdm(csv.reader(fin, delimiter=',')):\n",
    "                count = row[12].split('.')[0]\n",
    "                if count:\n",
    "                    count = int(count)\n",
    "                else:\n",
    "                    count = 0\n",
    "                \n",
    "                group_id = row[5]\n",
    "                event_id = row[10]\n",
    "                timestamp = int(row[3])\n",
    "                device_id = row[7]\n",
    "                if count and check_group_event_id(group_id, event_id):\n",
    "                    event_types[(group_id, event_id)] = True\n",
    "                    users[device_id] = True\n",
    "                    for i in range(count):\n",
    "                        events.append((device_id, group_id, event_id, timestamp))\n",
    "        \n",
    "        print(str(len(events)) + \" event read.\")\n",
    "        print(str(len(users)) + \" users found.\")\n",
    "        print(str(len(list(event_types.keys()))) + \" event types found.\")\n",
    "        \n",
    "        self.users = list(users.keys())\n",
    "        self.event_types = list(event_types.keys())\n",
    "        self.events = events\n",
    "    \n",
    "    def split_events_to_train_test(self):\n",
    "        user_to_min_time = {}\n",
    "        user_to_max_time = {}\n",
    "        \n",
    "        for event in notebook.tqdm(self.events):\n",
    "            device_id, group_id, event_id, timestamp = event\n",
    "            \n",
    "            if device_id not in user_to_min_time.keys():\n",
    "                user_to_min_time[device_id] = timestamp\n",
    "            else:\n",
    "                user_to_min_time[device_id] = min(user_to_min_time[device_id], timestamp)\n",
    "            \n",
    "            if device_id not in user_to_max_time.keys():\n",
    "                user_to_max_time[device_id] = timestamp\n",
    "            else:\n",
    "                user_to_max_time[device_id] = max(user_to_max_time[device_id], timestamp)\n",
    "        \n",
    "        train_events = []\n",
    "        test_events = {}\n",
    "    \n",
    "        for event in notebook.tqdm(self.events):\n",
    "            device_id, group_id, event_id, timestamp = event\n",
    "            \n",
    "            min_time = user_to_min_time[device_id]\n",
    "            max_time = user_to_max_time[device_id]\n",
    "            \n",
    "            if (max_time - min_time) < self.predicted_time:\n",
    "                continue\n",
    "            \n",
    "            threshold = max_time - self.predicted_time\n",
    "            \n",
    "            if timestamp < threshold:\n",
    "                if threshold - self.train_time <= timestamp :\n",
    "                    train_events.append((device_id, group_id, event_id, timestamp, threshold))\n",
    "            else:\n",
    "                test_events[(device_id, group_id, event_id)] = True\n",
    "              \n",
    "        print(str(len(train_events)) + \" train events.\")\n",
    "        print(str(len(test_events.keys())) + \" test events.\")\n",
    "              \n",
    "        return train_events, test_events\n",
    "\n",
    "    def __call__(self):\n",
    "        self.read_events_from_file()\n",
    "        return self.split_events_to_train_test()\n",
    "        "
   ]
  },
  {
   "cell_type": "code",
   "execution_count": null,
   "metadata": {},
   "outputs": [],
   "source": [
    "events_reader = ReadEvents(INPUT_FILE_NAME, PREDICTED_TIME_MILLIS, TRAIN_TIME_DAYS)"
   ]
  },
  {
   "cell_type": "code",
   "execution_count": null,
   "metadata": {},
   "outputs": [],
   "source": [
    "train_events, test_events = events_reader()"
   ]
  },
  {
   "cell_type": "code",
   "execution_count": null,
   "metadata": {},
   "outputs": [],
   "source": [
    "PRODUCTIVITY = \"productivity\""
   ]
  },
  {
   "cell_type": "code",
   "execution_count": null,
   "metadata": {},
   "outputs": [],
   "source": [
    "class Recommender:  \n",
    "    def __init__(self, users, event_types, events, forget_time_days):\n",
    "        self.users = users\n",
    "        self.event_types = event_types\n",
    "        self.events = events\n",
    "        self.forget_time_millis = forget_time_days * 24 * 60 * 60 * 1000\n",
    "\n",
    "    def recommend(self, user):\n",
    "        pass\n",
    "    \n",
    "    def recommend_list(self, users=None):\n",
    "        if not users:\n",
    "            users = self.users\n",
    "        \n",
    "        user_to_recomendation = {}\n",
    "        \n",
    "        for user in notebook.tqdm(users):\n",
    "            user_to_recomendation[user] = self.recommend(user)\n",
    "        \n",
    "        return user_to_recomendation"
   ]
  },
  {
   "cell_type": "code",
   "execution_count": 8,
   "metadata": {},
   "outputs": [],
   "source": [
    "class RecommenderTopEvent(Recommender):\n",
    "    def get_top_events(self):\n",
    "        event_to_count = {}\n",
    "        for (device_id, group_id, event_id, _, _) in notebook.tqdm(self.events):\n",
    "            \n",
    "            if group_id == PRODUCTIVITY:\n",
    "                \n",
    "                if (group_id, event_id) in event_to_count.keys():\n",
    "                    event_to_count[(group_id, event_id)] = event_to_count[(group_id, event_id)] + 1\n",
    "                else:\n",
    "                    event_to_count[(group_id, event_id)] = 1\n",
    "        \n",
    "        sorted_by_count_events = sorted(event_to_count.items(), key=operator.itemgetter(1), reverse=True)\n",
    "        \n",
    "        all_count_sum = 0\n",
    "        for event_count in sorted_by_count_events:\n",
    "            all_count_sum += event_count[1]\n",
    "        \n",
    "        self.top_events = [(x[0], x[1] / all_count_sum) for x in sorted_by_count_events]  \n",
    "        #print(self.top_events)\n",
    "\n",
    "    def __init__(self, users, event_types, events, forget_time_days):\n",
    "        super(RecommenderTopEvent, self).__init__(users, event_types, events, forget_time_days)\n",
    "        self.get_top_events()\n",
    "    \n",
    "    def recommend(self, user):\n",
    "        done_by_user_events = {}\n",
    "        \n",
    "        for (device_id, group_id, event_id, timestamp, threshold) in self.events:\n",
    "            if device_id == user and \\\n",
    "              threshold - timestamp < self.forget_time_millis:\n",
    "                \n",
    "                done_by_user_events[(group_id, event_id)] = True\n",
    "\n",
    "        for i in range(len(self.top_events)):\n",
    "            top_event = self.top_events[i][0]\n",
    "            \n",
    "            if not top_event in done_by_user_events.keys():\n",
    "                #print(top_event)\n",
    "                return top_event\n",
    "\n",
    "        #print(self.top_events[i][0])\n",
    "        return self.top_events[i][0]\n",
    "    "
   ]
  },
  {
   "cell_type": "code",
   "execution_count": 9,
   "metadata": {},
   "outputs": [],
   "source": [
    "class RecommenderTopEventWithProbability(RecommenderTopEvent):\n",
    "    \n",
    "    def recommend(self, user):\n",
    "        done_by_user_events = {}\n",
    "        \n",
    "        for (device_id, group_id, event_id, timestamp, threshold) in self.events:\n",
    "            if device_id == user and \\\n",
    "              threshold - timestamp < self.forget_time_millis:\n",
    "                \n",
    "                done_by_user_events[(group_id, event_id)] = True\n",
    "\n",
    "                \n",
    "        not_done_event_with_prob = {}\n",
    "        all_not_done_top_sum = 0\n",
    "        for i in range(len(self.top_events)):\n",
    "            top_event = self.top_events[i]\n",
    "            if not top_event[0] in done_by_user_events.keys():\n",
    "                not_done_event_with_prob[top_event] = True\n",
    "                all_not_done_top_sum += top_event[1]\n",
    "            \n",
    "        not_done_event_with_prob = list(not_done_event_with_prob.keys())\n",
    "        probs = []\n",
    "        for i in range(len(not_done_event_with_prob)):\n",
    "            probs.append(not_done_event_with_prob[i][1] / all_not_done_top_sum)\n",
    "        \n",
    "        return not_done_event_with_prob[np.random.choice(len(not_done_event_with_prob), 1, probs)[0]][0]  \n",
    "    "
   ]
  },
  {
   "cell_type": "code",
   "execution_count": 10,
   "metadata": {},
   "outputs": [],
   "source": [
    "class Recommendations:\n",
    "    def __init__(self, algorithm, users_to_recommend, test_events):\n",
    "        self.algorithm = algorithm\n",
    "        self.users_to_recommend = users_to_recommend\n",
    "        self.test_events = test_events\n",
    "    \n",
    "    def check_recomendation(self):\n",
    "        true_recommendations_cnt, all_recommendations_cnt = 0, len(list(self.user_to_recomendation.keys()))\n",
    "        \n",
    "        for user in self.user_to_recomendation.keys():\n",
    "            group_id, event_id = self.user_to_recomendation[user]\n",
    "            if group_id != PRODUCTIVITY:\n",
    "                print(group_id)\n",
    "            if (user, group_id, event_id) in self.test_events.keys():\n",
    "                true_recommendations_cnt += 1\n",
    "        return true_recommendations_cnt / all_recommendations_cnt\n",
    "            \n",
    "    def get_recommendation(self):\n",
    "        self.user_to_recomendation = self.algorithm.recommend_list(self.users_to_recommend)\n",
    "        result = self.check_recomendation()\n",
    "        print(str(result) + \" predictions were correct.\")\n",
    "        \n",
    "        return self.user_to_recomendation\n",
    "        \n",
    "    def __call__(self):\n",
    "        return self.get_recommendation()"
   ]
  },
  {
   "cell_type": "code",
   "execution_count": 11,
   "metadata": {},
   "outputs": [
    {
     "data": {
      "application/vnd.jupyter.widget-view+json": {
       "model_id": "b2abc74c022c45c6b2bdeb4e2dc93c93",
       "version_major": 2,
       "version_minor": 0
      },
      "text/plain": [
       "HBox(children=(IntProgress(value=0, max=3468843), HTML(value='')))"
      ]
     },
     "metadata": {},
     "output_type": "display_data"
    },
    {
     "name": "stdout",
     "output_type": "stream",
     "text": [
      "\n"
     ]
    }
   ],
   "source": [
    "algorithm = RecommenderTopEvent(events_reader.users, events_reader.event_types, train_events, FORGET_TIME_DAYS)"
   ]
  },
  {
   "cell_type": "code",
   "execution_count": 12,
   "metadata": {},
   "outputs": [],
   "source": [
    "recommendations = Recommendations(algorithm, None, test_events)"
   ]
  },
  {
   "cell_type": "code",
   "execution_count": 13,
   "metadata": {},
   "outputs": [
    {
     "data": {
      "application/vnd.jupyter.widget-view+json": {
       "model_id": "2b2241ddff0141b58c1efd1ee5e7f85b",
       "version_major": 2,
       "version_minor": 0
      },
      "text/plain": [
       "HBox(children=(IntProgress(value=0, max=724), HTML(value='')))"
      ]
     },
     "metadata": {},
     "output_type": "display_data"
    },
    {
     "name": "stdout",
     "output_type": "stream",
     "text": [
      "\n",
      "0.0925414364640884 predictions were correct.\n"
     ]
    }
   ],
   "source": [
    "user_to_recomendation = recommendations()"
   ]
  },
  {
   "cell_type": "code",
   "execution_count": 68,
   "metadata": {},
   "outputs": [
    {
     "data": {
      "application/vnd.jupyter.widget-view+json": {
       "model_id": "ece962b3e914409db1377bc67b40b0ca",
       "version_major": 2,
       "version_minor": 0
      },
      "text/plain": [
       "HBox(children=(IntProgress(value=0, max=3468843), HTML(value='')))"
      ]
     },
     "metadata": {},
     "output_type": "display_data"
    },
    {
     "name": "stdout",
     "output_type": "stream",
     "text": [
      "\n"
     ]
    }
   ],
   "source": [
    "algorithm = RecommenderTopEventWithProbability(events_reader.users, events_reader.event_types, train_events, FORGET_TIME_DAYS)"
   ]
  },
  {
   "cell_type": "code",
   "execution_count": 69,
   "metadata": {},
   "outputs": [],
   "source": [
    "recommendations = Recommendations(algorithm, None, test_events)"
   ]
  },
  {
   "cell_type": "code",
   "execution_count": 70,
   "metadata": {},
   "outputs": [
    {
     "data": {
      "application/vnd.jupyter.widget-view+json": {
       "model_id": "5244629dae844a32988d93dba6c66c96",
       "version_major": 2,
       "version_minor": 0
      },
      "text/plain": [
       "HBox(children=(IntProgress(value=0, max=724), HTML(value='')))"
      ]
     },
     "metadata": {},
     "output_type": "display_data"
    },
    {
     "ename": "KeyboardInterrupt",
     "evalue": "",
     "output_type": "error",
     "traceback": [
      "\u001b[0;31m---------------------------------------------------------------------------\u001b[0m",
      "\u001b[0;31mKeyboardInterrupt\u001b[0m                         Traceback (most recent call last)",
      "\u001b[0;32m<ipython-input-70-16f8fbcf3853>\u001b[0m in \u001b[0;36m<module>\u001b[0;34m\u001b[0m\n\u001b[0;32m----> 1\u001b[0;31m \u001b[0muser_to_recomendation\u001b[0m \u001b[0;34m=\u001b[0m \u001b[0mrecommendations\u001b[0m\u001b[0;34m(\u001b[0m\u001b[0;34m)\u001b[0m\u001b[0;34m\u001b[0m\u001b[0;34m\u001b[0m\u001b[0m\n\u001b[0m",
      "\u001b[0;32m<ipython-input-10-250aa454439f>\u001b[0m in \u001b[0;36m__call__\u001b[0;34m(self)\u001b[0m\n\u001b[1;32m     24\u001b[0m \u001b[0;34m\u001b[0m\u001b[0m\n\u001b[1;32m     25\u001b[0m     \u001b[0;32mdef\u001b[0m \u001b[0m__call__\u001b[0m\u001b[0;34m(\u001b[0m\u001b[0mself\u001b[0m\u001b[0;34m)\u001b[0m\u001b[0;34m:\u001b[0m\u001b[0;34m\u001b[0m\u001b[0;34m\u001b[0m\u001b[0m\n\u001b[0;32m---> 26\u001b[0;31m         \u001b[0;32mreturn\u001b[0m \u001b[0mself\u001b[0m\u001b[0;34m.\u001b[0m\u001b[0mget_recommendation\u001b[0m\u001b[0;34m(\u001b[0m\u001b[0;34m)\u001b[0m\u001b[0;34m\u001b[0m\u001b[0;34m\u001b[0m\u001b[0m\n\u001b[0m",
      "\u001b[0;32m<ipython-input-10-250aa454439f>\u001b[0m in \u001b[0;36mget_recommendation\u001b[0;34m(self)\u001b[0m\n\u001b[1;32m     17\u001b[0m \u001b[0;34m\u001b[0m\u001b[0m\n\u001b[1;32m     18\u001b[0m     \u001b[0;32mdef\u001b[0m \u001b[0mget_recommendation\u001b[0m\u001b[0;34m(\u001b[0m\u001b[0mself\u001b[0m\u001b[0;34m)\u001b[0m\u001b[0;34m:\u001b[0m\u001b[0;34m\u001b[0m\u001b[0;34m\u001b[0m\u001b[0m\n\u001b[0;32m---> 19\u001b[0;31m         \u001b[0mself\u001b[0m\u001b[0;34m.\u001b[0m\u001b[0muser_to_recomendation\u001b[0m \u001b[0;34m=\u001b[0m \u001b[0mself\u001b[0m\u001b[0;34m.\u001b[0m\u001b[0malgorithm\u001b[0m\u001b[0;34m.\u001b[0m\u001b[0mrecommend_list\u001b[0m\u001b[0;34m(\u001b[0m\u001b[0mself\u001b[0m\u001b[0;34m.\u001b[0m\u001b[0musers_to_recommend\u001b[0m\u001b[0;34m)\u001b[0m\u001b[0;34m\u001b[0m\u001b[0;34m\u001b[0m\u001b[0m\n\u001b[0m\u001b[1;32m     20\u001b[0m         \u001b[0mresult\u001b[0m \u001b[0;34m=\u001b[0m \u001b[0mself\u001b[0m\u001b[0;34m.\u001b[0m\u001b[0mcheck_recomendation\u001b[0m\u001b[0;34m(\u001b[0m\u001b[0;34m)\u001b[0m\u001b[0;34m\u001b[0m\u001b[0;34m\u001b[0m\u001b[0m\n\u001b[1;32m     21\u001b[0m         \u001b[0mprint\u001b[0m\u001b[0;34m(\u001b[0m\u001b[0mstr\u001b[0m\u001b[0;34m(\u001b[0m\u001b[0mresult\u001b[0m\u001b[0;34m)\u001b[0m \u001b[0;34m+\u001b[0m \u001b[0;34m\" predictions were correct.\"\u001b[0m\u001b[0;34m)\u001b[0m\u001b[0;34m\u001b[0m\u001b[0;34m\u001b[0m\u001b[0m\n",
      "\u001b[0;32m<ipython-input-7-941615f1502c>\u001b[0m in \u001b[0;36mrecommend_list\u001b[0;34m(self, users)\u001b[0m\n\u001b[1;32m     16\u001b[0m \u001b[0;34m\u001b[0m\u001b[0m\n\u001b[1;32m     17\u001b[0m         \u001b[0;32mfor\u001b[0m \u001b[0muser\u001b[0m \u001b[0;32min\u001b[0m \u001b[0mnotebook\u001b[0m\u001b[0;34m.\u001b[0m\u001b[0mtqdm\u001b[0m\u001b[0;34m(\u001b[0m\u001b[0musers\u001b[0m\u001b[0;34m)\u001b[0m\u001b[0;34m:\u001b[0m\u001b[0;34m\u001b[0m\u001b[0;34m\u001b[0m\u001b[0m\n\u001b[0;32m---> 18\u001b[0;31m             \u001b[0muser_to_recomendation\u001b[0m\u001b[0;34m[\u001b[0m\u001b[0muser\u001b[0m\u001b[0;34m]\u001b[0m \u001b[0;34m=\u001b[0m \u001b[0mself\u001b[0m\u001b[0;34m.\u001b[0m\u001b[0mrecommend\u001b[0m\u001b[0;34m(\u001b[0m\u001b[0muser\u001b[0m\u001b[0;34m)\u001b[0m\u001b[0;34m\u001b[0m\u001b[0;34m\u001b[0m\u001b[0m\n\u001b[0m\u001b[1;32m     19\u001b[0m \u001b[0;34m\u001b[0m\u001b[0m\n\u001b[1;32m     20\u001b[0m         \u001b[0;32mreturn\u001b[0m \u001b[0muser_to_recomendation\u001b[0m\u001b[0;34m\u001b[0m\u001b[0;34m\u001b[0m\u001b[0m\n",
      "\u001b[0;32m<ipython-input-9-1bfc2c0eaa33>\u001b[0m in \u001b[0;36mrecommend\u001b[0;34m(self, user)\u001b[0m\n\u001b[1;32m      5\u001b[0m \u001b[0;34m\u001b[0m\u001b[0m\n\u001b[1;32m      6\u001b[0m         \u001b[0;32mfor\u001b[0m \u001b[0;34m(\u001b[0m\u001b[0mdevice_id\u001b[0m\u001b[0;34m,\u001b[0m \u001b[0mgroup_id\u001b[0m\u001b[0;34m,\u001b[0m \u001b[0mevent_id\u001b[0m\u001b[0;34m,\u001b[0m \u001b[0mtimestamp\u001b[0m\u001b[0;34m,\u001b[0m \u001b[0mthreshold\u001b[0m\u001b[0;34m)\u001b[0m \u001b[0;32min\u001b[0m \u001b[0mself\u001b[0m\u001b[0;34m.\u001b[0m\u001b[0mevents\u001b[0m\u001b[0;34m:\u001b[0m\u001b[0;34m\u001b[0m\u001b[0;34m\u001b[0m\u001b[0m\n\u001b[0;32m----> 7\u001b[0;31m             \u001b[0;32mif\u001b[0m \u001b[0mdevice_id\u001b[0m \u001b[0;34m==\u001b[0m \u001b[0muser\u001b[0m \u001b[0;32mand\u001b[0m\u001b[0;31m \u001b[0m\u001b[0;31m\\\u001b[0m\u001b[0;34m\u001b[0m\u001b[0;34m\u001b[0m\u001b[0m\n\u001b[0m\u001b[1;32m      8\u001b[0m               \u001b[0mthreshold\u001b[0m \u001b[0;34m-\u001b[0m \u001b[0mtimestamp\u001b[0m \u001b[0;34m<\u001b[0m \u001b[0mself\u001b[0m\u001b[0;34m.\u001b[0m\u001b[0mforget_time_millis\u001b[0m\u001b[0;34m:\u001b[0m\u001b[0;34m\u001b[0m\u001b[0;34m\u001b[0m\u001b[0m\n\u001b[1;32m      9\u001b[0m \u001b[0;34m\u001b[0m\u001b[0m\n",
      "\u001b[0;31mKeyboardInterrupt\u001b[0m: "
     ]
    }
   ],
   "source": [
    "user_to_recomendation = recommendations()"
   ]
  },
  {
   "cell_type": "code",
   "execution_count": 118,
   "metadata": {},
   "outputs": [],
   "source": [
    "class MatrixFactorization(Recommender):  \n",
    "    def __init__(self, users, event_types, events, forget_time_days):\n",
    "        super(MatrixFactorization, self).__init__(users, event_types, events, forget_time_days)\n",
    "        \n",
    "        self.user_to_index = {}\n",
    "        for i in range(len(self.users)):\n",
    "            self.user_to_index[self.users[i]] = i\n",
    "        \n",
    "        #self.productivity_event_types = []\n",
    "        #for event in self.event_types:\n",
    "        #    group_id, event_id = event\n",
    "            #if group_id == 'productivity':\n",
    "        ##    self.productivity_event_types.append(event_id)\n",
    "            \n",
    "        self.event_to_index = {}\n",
    "        for i in range(len(self.event_types)):\n",
    "            #print(self.event_types[i])\n",
    "            self.event_to_index[self.event_types[i]] = i\n",
    "         \n",
    "        data = []\n",
    "        row_id = []\n",
    "        col_id = []\n",
    "        row_col = {}\n",
    "        for event in events:\n",
    "            (device_id, group_id, event_id, timestamp, threshold) = event\n",
    "            #print(str(threshold - timestamp))\n",
    "            if threshold - timestamp < self.forget_time_millis and\\\n",
    "            (self.user_to_index[device_id], self.event_to_index[(group_id, event_id)]) not in row_col.keys():\n",
    "                data.append(1)\n",
    "                row_id.append(self.user_to_index[device_id])\n",
    "                col_id.append(self.event_to_index[(group_id, event_id)])\n",
    "                row_col[(self.user_to_index[device_id], self.event_to_index[(group_id, event_id)])] = True\n",
    "        \n",
    "        self.matrix = csr_matrix((np.array(data), (np.array(row_id), np.array(col_id))), dtype=float, shape=(len(users), len(self.event_types)))\n",
    "        #print(data)\n",
    "        u, s, vt = svds(self.matrix, k=2)\n",
    "        self.predicted_matrix = np.dot(u, vt)\n",
    "        \n",
    "\n",
    "    def recommend(self, user):\n",
    "        user_ind = self.user_to_index[user]\n",
    "        user_values = self.predicted_matrix[user_ind]\n",
    "        user_old_values = self.matrix.toarray()[user_ind]\n",
    "        diff_values = user_values - user_old_values\n",
    "        for i in range(len(diff_values)):\n",
    "            if user_old_values[i] > 0:\n",
    "                diff_values[i] = 0\n",
    "            if self.event_types[i][0] != PRODUCTIVITY:\n",
    "                diff_values[i] = -1\n",
    "            #print(str(self.event_types[i]) + \" \" + str(diff_values[i]))\n",
    "        #print(diff_values)\n",
    "        event_ind = np.argmax(diff_values)\n",
    "        #print(diff_values[event_ind])\n",
    "        #if diff_values[event_ind] < 0:\n",
    "        #    print(diff_values[event_ind])\n",
    "        #print(len(diff_values))\n",
    "        #print(len(pro))\n",
    "        #if diff_values[event_ind] < 0:\n",
    "         #   print(diff_values[event_ind])\n",
    "        #print(self.event_types[event_ind])\n",
    "        return self.event_types[event_ind]\n",
    "                \n",
    "        \n",
    "        "
   ]
  },
  {
   "cell_type": "code",
   "execution_count": 119,
   "metadata": {},
   "outputs": [],
   "source": [
    "algorithm = MatrixFactorization(events_reader.users, events_reader.event_types, train_events, FORGET_TIME_DAYS)"
   ]
  },
  {
   "cell_type": "code",
   "execution_count": 120,
   "metadata": {},
   "outputs": [],
   "source": [
    "recommendations = Recommendations(algorithm, None, test_events)"
   ]
  },
  {
   "cell_type": "code",
   "execution_count": 121,
   "metadata": {},
   "outputs": [
    {
     "data": {
      "application/vnd.jupyter.widget-view+json": {
       "model_id": "b71d1911c0694b5fb2ca30f22cc6071c",
       "version_major": 2,
       "version_minor": 0
      },
      "text/plain": [
       "HBox(children=(IntProgress(value=0, max=724), HTML(value='')))"
      ]
     },
     "metadata": {},
     "output_type": "display_data"
    },
    {
     "name": "stdout",
     "output_type": "stream",
     "text": [
      "\n",
      "0.10220994475138122 predictions were correct.\n"
     ]
    }
   ],
   "source": [
    "user_to_recomendation = recommendations()"
   ]
  },
  {
   "cell_type": "code",
   "execution_count": 122,
   "metadata": {},
   "outputs": [],
   "source": [
    "user_event = {}\n",
    "for (device_id, group_id, event_id, timestamp, threshold) in train_events:\n",
    "    user_event[(device_id, group_id, event_id)] = True"
   ]
  },
  {
   "cell_type": "code",
   "execution_count": 123,
   "metadata": {},
   "outputs": [
    {
     "name": "stdout",
     "output_type": "stream",
     "text": [
      "('170419111546e84-014c-4dc5-8cf4-d6a139c2ebc2', 'productivity', 'editing.completion.basic')\n",
      "('2803193f5aad39a-f56a-444f-a764-f260798994b7', 'productivity', 'navigation.goto.declaration')\n",
      "('0708191802abdf4-d1e3-4a70-9ee2-0c73e6213743', 'productivity', 'editing.select.word')\n",
      "('1308191e68abb69-2d9a-4b23-a9da-db8e381b9a22', 'productivity', 'SearchEverywhere')\n",
      "('30071914b3ba8c3-4ae1-42a9-9893-c077ad4d9210', 'productivity', 'editing.completion.basic')\n",
      "('070819171a61cfe-2ab5-4bb4-a2f5-f4377ceb323f', 'productivity', 'editing.completion.basic')\n",
      "('0908191169f45a9-a7e3-480d-9803-81eb966fddad', 'productivity', 'editing.completion.basic')\n",
      "('0907191cf2cbe7b-e315-453f-a376-9469fe5f5644', 'productivity', 'editing.completion.replace')\n",
      "('28031915628df27-6609-4bf7-9426-2dd7c2301699', 'productivity', 'SearchEverywhere')\n",
      "('06041912367056b-45ce-478e-8bab-13e653d5bad4', 'productivity', 'SearchEverywhere')\n",
      "('290519274cbcbc2-ab5a-45de-9a94-acd7996a50a1', 'productivity', 'navigation.goto.declaration')\n",
      "('0407191f5c8c531-d4b7-484c-be0b-fb0ee15dd6e7', 'productivity', 'editing.select.word')\n",
      "('1407191790f5a8b-5ded-46a5-874b-977625181a73', 'productivity', 'editing.completion.basic')\n",
      "('26041917a008cf5-5d32-468d-9c35-294dd6bf5e27', 'productivity', 'SearchEverywhere')\n",
      "('16081910f5491b5-9622-46f0-abf3-d0c50ac64703', 'productivity', 'editing.completion.basic')\n",
      "('2607193e6ca4711-7cf1-4182-9dc4-eec7de2561ea', 'productivity', 'editing.completion.basic')\n",
      "('05071912dd9b4df-4822-46ec-b6f9-03126ff02b00', 'productivity', 'editing.completion.basic')\n",
      "('1405192069f1749-e1a9-48fe-95a0-0a6d7da26e50', 'productivity', 'navigation.goto.declaration')\n",
      "('06071932719a9bc-3c11-48e7-9289-f479a7554c99', 'productivity', 'navigation.goto.declaration')\n",
      "('2205191b483f391-5f61-4653-9bb0-35f870c9508b', 'productivity', 'SearchEverywhere')\n",
      "('230719286eba917-55af-4e03-92c5-20f0ea7e6a9b', 'productivity', 'navigation.goto.declaration')\n",
      "('1006193667e60f2-b6e0-43df-a9b1-91ea579ebfdd', 'productivity', 'editing.completion.basic')\n",
      "('040719176065d33-cfa2-4035-aeff-ca655f5d858a', 'productivity', 'SearchEverywhere')\n",
      "('2803191f81049c9-0ebf-4865-8b47-6ce7589d2249', 'productivity', 'editing.completion.basic')\n",
      "('17041912109a919-3ea8-4e46-b3a5-e846740afd7e', 'productivity', 'editing.completion.basic')\n",
      "('3004192650546a0-e49c-4468-a90c-31e3224e2718', 'productivity', 'codeassists.comment.line')\n",
      "('120619101134b04-f9fc-4bc5-823f-58b7e0bab270', 'productivity', 'editing.completion.basic')\n",
      "('3107191315f4aac-7a5f-4544-b8bb-b90900f76075', 'productivity', 'SearchEverywhere')\n",
      "('1704192d1094efc-49e7-4896-9a1c-f52d19f73f71', 'productivity', 'refactoring.rename')\n",
      "('3107191ebfa8d3b-a5f9-480a-896a-d382fab7dd0c', 'productivity', 'SearchEverywhere')\n",
      "('010819126b491f1-c640-4ef0-8cdb-045317cc81ca', 'productivity', 'SearchEverywhere')\n",
      "('0208191cd0b9617-9623-4d21-ac8e-62b76667d435', 'productivity', 'editing.completion.camelHumps')\n",
      "('090719183245919-06aa-4cde-aa4a-996f22d6ea31', 'productivity', 'navigation.goto.declaration')\n",
      "('09071914fd3e2c4-2305-430e-b285-2dcb385c3d7d', 'productivity', 'navigation.goto.declaration')\n",
      "('170619131918c13-ea55-40ae-8f58-57706243aa3e', 'productivity', 'editing.select.word')\n",
      "('1406191e67a687c-6e13-43bd-8b1c-42a56732e616', 'productivity', 'editing.select.word')\n",
      "('2807193ce845af7-0150-4468-938c-23defc30047b', 'productivity', 'ui.tree.speedsearch')\n",
      "('1708191a6c0557e-d8ea-4247-9f98-890b31032652', 'productivity', 'editing.completion.basic')\n",
      "('08071911a9c4ed7-41ca-48dc-95df-e573b0214565', 'productivity', 'editing.select.word')\n",
      "('130719160a4f80b-45e2-4932-9db1-156cf5aad530', 'productivity', 'SearchEverywhere')\n",
      "('1206191083323e3-b3b3-4975-b49e-8f1526fbb9aa', 'productivity', 'refactoring.rename')\n",
      "('2404191a525b5e6-9db8-4d9a-a560-f955f0919bee', 'productivity', 'editing.select.word')\n",
      "('010719210550a33-b9b9-43b7-a518-c1c2500594a1', 'productivity', 'editing.select.word')\n",
      "('2407191b95688f7-a99a-4a9c-b41c-5743d41e70ab', 'productivity', 'editing.select.word')\n",
      "('19061917d0d9807-60b9-449e-9572-a6eafec70d85', 'productivity', 'refactoring.rename')\n",
      "('1508193bb035ff5-a35b-4ee9-b962-cc3917a9807a', 'productivity', 'SearchEverywhere')\n",
      "('1504191bf139b54-e5c3-4be1-9863-584267f2f660', 'productivity', 'editing.completion.basic')\n",
      "('1404192af64f8c1-8e4b-44b6-86ee-8e66eb39177e', 'productivity', 'editing.completion.basic')\n",
      "('1906191fb1ee05a-5c8b-4db0-99dc-41f2dcc5bf75', 'productivity', 'editing.completion.basic')\n",
      "('060619166d1eb50-0fbd-4b5a-a9bf-765bc755d24c', 'productivity', 'editing.select.word')\n",
      "('200519112616364-54d6-4211-9cd8-63468ff98c4b', 'productivity', 'editing.completion.basic')\n",
      "('2703192e1e86f4d-ac12-4c9e-b259-5325f11f76bb', 'productivity', 'SearchEverywhere')\n",
      "('2506193de1be4ea-0c71-4af1-a958-20f464030274', 'productivity', 'refactoring.rename')\n",
      "('24071919a3fc2f5-f290-4938-b55d-d0791879ebe8', 'productivity', 'editing.completion.basic')\n",
      "('04071915bc3eeee-a912-4d50-bc07-4ce8ab2b8c46', 'productivity', 'editing.completion.basic')\n",
      "('190419267d8a15b-be31-456f-b1bb-8ceb906a51e3', 'productivity', 'SearchEverywhere')\n",
      "('080819170ed1f75-a07b-48a1-a39d-0cbc5b502594', 'productivity', 'SearchEverywhere')\n",
      "('0406191b6467e05-9f51-480b-9f92-e510f4a5859a', 'productivity', 'SearchEverywhere')\n",
      "('230519157d63ecc-82f6-49d9-b422-9930d4f034ea', 'productivity', 'SearchEverywhere')\n",
      "('1804191164322e8-dbf3-4e6b-9d30-8cb28beea558', 'productivity', 'navigation.goto.declaration')\n",
      "('23071918ca2990b-b3b6-42cd-babb-84a058bed8c9', 'productivity', 'editing.completion.basic')\n",
      "('2607191fe74fdf9-fa76-4497-99ed-42816e7575a4', 'productivity', 'editing.completion.basic')\n",
      "('280319138c2986a-3219-433f-85f6-5510bddb5236', 'productivity', 'SearchEverywhere')\n",
      "('09041921b73672e-51ab-46ac-8ac8-d66037303da7', 'productivity', 'editing.completion.basic')\n",
      "('0906192096d4ac4-3541-4bd3-a306-5b7143b1cde4', 'productivity', 'editing.completion.basic')\n",
      "('31031938b5ad6b6-59c6-416b-bc55-066eb83275ea', 'productivity', 'editing.completion.basic')\n",
      "('2006191d8800f0e-1f14-4181-8f1e-a46efd7c6c8b', 'productivity', 'editing.select.word')\n",
      "('270319277512fed-77b6-43c2-8a27-904900c81e03', 'productivity', 'codeassists.comment.line')\n",
      "('310719110edb09e-1a9a-4968-9ed8-fb5439ed222b', 'productivity', 'navigation.goto.declaration')\n",
      "('01041910796e711-7dc9-46b9-a0be-2c970685473e', 'productivity', 'refactoring.rename')\n",
      "('26071936adade84-bfbd-4f24-808a-a974fa5d8eda', 'productivity', 'editing.completion.basic')\n",
      "('2907191a2259608-5421-45f4-97a3-929bcad4c1d6', 'productivity', 'navigation.goto.declaration')\n",
      "('0305192e0017359-20ad-4041-b181-1bdfe92bb8f6', 'productivity', 'codeassists.comment.line')\n",
      "('0505192d3d12f0e-e9bc-41cc-a2a8-041fb9e8fc44', 'productivity', 'editing.completion.basic')\n",
      "('090819153cee141-f9c4-4dfc-924a-153e9b1747e4', 'productivity', 'navigation.goto.declaration')\n",
      "('02081910f4c3b89-47a2-4468-8109-7893c1d77017', 'productivity', 'editing.completion.basic')\n",
      "('030719303c56d78-cb73-4808-b3ea-164af981b0a1', 'productivity', 'navigation.goto.declaration')\n",
      "('0307191881d3de2-3c4c-48ef-9da9-228600140117', 'productivity', 'editing.select.word')\n",
      "('2307192b1d6ce91-60a6-4c34-b949-5811c23dfc81', 'productivity', 'editing.completion.replace')\n",
      "('2703193b72ba5ab-0d8b-4d75-be15-0cc0b176f2af', 'productivity', 'editing.completion.basic')\n",
      "('270519332edea4f-d4c6-41d3-91f1-5baf7e9b4b50', 'productivity', 'editing.completion.basic')\n",
      "('28061913e758345-8bef-40c4-955d-0638804d94a8', 'productivity', 'editing.completion.basic')\n",
      "('2007191c2fb1d7d-e148-40d8-9061-e1915d24723a', 'productivity', 'navigation.goto.declaration')\n",
      "('0304193793f162b-566d-449e-b755-4dfebe31b535', 'productivity', 'refactoring.rename')\n",
      "('2004193aac1ec05-e675-4315-b80c-c6a9b70e99e0', 'productivity', 'codeassists.comment.line')\n",
      "('310519186101d26-6385-43ad-aa74-5461d19d1e4d', 'productivity', 'editing.select.word')\n",
      "('15051924eb7f6e9-2083-44d7-9fc8-33a1c7840321', 'productivity', 'editing.completion.basic')\n",
      "('2306191e9d967f4-1349-493d-8f94-2d27d88ed9f4', 'productivity', 'editing.select.word')\n",
      "('180519133c7f7db-009b-4476-a530-f6ccb289b755', 'productivity', 'navigation.goto.declaration')\n",
      "('01081912754d9d8-5d80-4214-8940-3d8fa9ad0034', 'productivity', 'editing.select.word')\n",
      "('10071912e17e1db-28bd-4d2f-a928-b13c6a9a5bce', 'productivity', 'editing.completion.basic')\n",
      "('070819123a4347a-6189-41b9-901f-1486c1f0d2a0', 'productivity', 'editing.completion.basic')\n",
      "('01081934c7247cd-0774-4780-9a97-8c6d9bf1005b', 'productivity', 'editing.completion.camelHumps')\n",
      "('2507191a0d7264c-472a-4f5a-88ea-b95cb754d480', 'productivity', 'editing.completion.basic')\n",
      "('0108193aadb89fc-957a-4834-84d5-cec88b4c728b', 'productivity', 'editing.completion.basic')\n",
      "('01081918fdc95df-7311-41c4-8dd9-ee877a1873d7', 'productivity', 'editing.completion.basic')\n",
      "('0904191665c2fe5-b2c3-4be6-bfd4-7d883f4067d3', 'productivity', 'editing.completion.basic')\n"
     ]
    }
   ],
   "source": [
    "for user in user_to_recomendation.keys():\n",
    "    group_id, event_id = user_to_recomendation[user]\n",
    "    if (user, group_id, event_id) in user_event.keys():\n",
    "        print((user, group_id, event_id))"
   ]
  },
  {
   "cell_type": "code",
   "execution_count": null,
   "metadata": {},
   "outputs": [],
   "source": []
  }
 ],
 "metadata": {
  "kernelspec": {
   "display_name": "Python 3",
   "language": "python",
   "name": "python3"
  },
  "language_info": {
   "codemirror_mode": {
    "name": "ipython",
    "version": 3
   },
   "file_extension": ".py",
   "mimetype": "text/x-python",
   "name": "python",
   "nbconvert_exporter": "python",
   "pygments_lexer": "ipython3",
   "version": "3.7.4"
  }
 },
 "nbformat": 4,
 "nbformat_minor": 1
}
